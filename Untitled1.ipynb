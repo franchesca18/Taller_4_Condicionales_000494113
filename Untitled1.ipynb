{
  "nbformat": 4,
  "nbformat_minor": 0,
  "metadata": {
    "colab": {
      "provenance": [],
      "authorship_tag": "ABX9TyPtBmm36s9+7NaMtITuQkNX",
      "include_colab_link": true
    },
    "kernelspec": {
      "name": "python3",
      "display_name": "Python 3"
    },
    "language_info": {
      "name": "python"
    }
  },
  "cells": [
    {
      "cell_type": "markdown",
      "metadata": {
        "id": "view-in-github",
        "colab_type": "text"
      },
      "source": [
        "<a href=\"https://colab.research.google.com/github/franchesca18/Taller_4_Condicionales_000494113/blob/main/Untitled1.ipynb\" target=\"_parent\"><img src=\"https://colab.research.google.com/assets/colab-badge.svg\" alt=\"Open In Colab\"/></a>"
      ]
    },
    {
      "cell_type": "markdown",
      "source": [
        "## PROBLEMA 1\n",
        "Escribe un programa en Python que solicite al usuario ingresar una calificación numérica (de 0 a 5)\n",
        "y luego muestre un mensaje que diga si el estudiante aprobó o reprobó. Utiliza una estructura\n",
        "selectiva doble (if - else)"
      ],
      "metadata": {
        "id": "ea40csoXhscC"
      }
    },
    {
      "cell_type": "code",
      "execution_count": 6,
      "metadata": {
        "colab": {
          "base_uri": "https://localhost:8080/"
        },
        "id": "bjECJl8gd-HI",
        "outputId": "9b173f02-4bb8-4340-87f8-9230aaf3149c"
      },
      "outputs": [
        {
          "output_type": "stream",
          "name": "stdout",
          "text": [
            "ingrese un numero de calificacion: 3.5\n",
            "aprobado\n"
          ]
        }
      ],
      "source": [
        "calificacion = float(input(\"ingrese un numero de calificacion:\"))\n",
        "if calificacion <3 :\n",
        "    print(\"reprobado\")\n",
        "else:\n",
        "    print(\"aprobado\")\n"
      ]
    },
    {
      "cell_type": "markdown",
      "source": [
        "##PROBLEMA 2\n",
        "Escribe un programa en Python que solicite al usuario ingresar un número y luego determine e\n",
        "imprima si el número es posiDvo, negaDvo o cero utilizando estructuras selectivas doble (if - else)."
      ],
      "metadata": {
        "id": "Khzm-CH4ksHo"
      }
    },
    {
      "cell_type": "code",
      "source": [
        "numero = float(input(\"ingrese un numero:\"))\n",
        "if numero <0:\n",
        "  print(\"negativo\")\n",
        "if numero >0:\n",
        "  print(\"positivo\")\n",
        "if numero ==0:\n",
        "  print (\"igual a cero\")"
      ],
      "metadata": {
        "colab": {
          "base_uri": "https://localhost:8080/"
        },
        "id": "ksqNzjfTk6mV",
        "outputId": "c8d0385c-40d2-41bc-ff9a-fc6add01f26a"
      },
      "execution_count": 7,
      "outputs": [
        {
          "output_type": "stream",
          "name": "stdout",
          "text": [
            "ingrese un numero:-16\n",
            "negativo\n"
          ]
        }
      ]
    },
    {
      "cell_type": "markdown",
      "source": [
        "##PROBLEMA 3\n",
        "Escribe un programa en Python que solicite al usuario ingresar una contraseña. Si la contraseña es\n",
        "\"python123\", el programa debe imprimir \"Contraseña válida\". De lo contrario, debe imprimir\n",
        "\"Contraseña incorrecta\". Utiliza una estructura selectiva doble (if - else)."
      ],
      "metadata": {
        "id": "3kSkWrMyl7Vq"
      }
    },
    {
      "cell_type": "code",
      "source": [
        "contraseña = input(\"ingresar la contraseña:\")\n",
        "if contraseña == \"python123\":\n",
        "  print(\"contraseña valida\")\n",
        "else:\n",
        "  print(\"contraseña invalida\")"
      ],
      "metadata": {
        "colab": {
          "base_uri": "https://localhost:8080/"
        },
        "id": "oZuSa-MVmP0f",
        "outputId": "e4d37da4-d544-4d2d-86fc-d6625d6112bc"
      },
      "execution_count": 8,
      "outputs": [
        {
          "output_type": "stream",
          "name": "stdout",
          "text": [
            "ingresar la contraseña:python123\n",
            "contraseña valida\n"
          ]
        }
      ]
    },
    {
      "cell_type": "markdown",
      "source": [
        "##PROBLEMA 4\n",
        "Escribe un programa en Python que solicite al usuario ingresar un número y determine e imprima si\n",
        "el número es par o impar utilizando una estructura selectiva doble (if - else)."
      ],
      "metadata": {
        "id": "kplbLzdgnDBd"
      }
    },
    {
      "cell_type": "code",
      "source": [
        "numero = float(input(\"ingrese un numero:\"))\n",
        "if numero %2 == 0:\n",
        "  print(\"par\")\n",
        "else:\n",
        "  print(\"impar\")"
      ],
      "metadata": {
        "colab": {
          "base_uri": "https://localhost:8080/"
        },
        "id": "dEJwWXUCnViX",
        "outputId": "3bbc1f68-ded2-475d-e493-eeef808db200"
      },
      "execution_count": 10,
      "outputs": [
        {
          "output_type": "stream",
          "name": "stdout",
          "text": [
            "ingrese un numero:12\n",
            "par\n"
          ]
        }
      ]
    },
    {
      "cell_type": "markdown",
      "source": [
        "##PROBLEMA 5\n",
        "Escribe un programa en Python que solicite al usuario ingresar cinco números y luego determine e\n",
        "imprima cuál de los cinco números es mayor utilizando estructuras selectivas doble (if - else)."
      ],
      "metadata": {
        "id": "fzqqlGZJoUo4"
      }
    },
    {
      "cell_type": "code",
      "source": [
        "numero1 = float(input(\"ingrese el numero uno:\"))\n",
        "numero2 = float(input(\"ingrese el numero dos:\"))\n",
        "numero3 = float(input(\"ingrese el numero tres:\"))\n",
        "numero4 = float(input(\"ingrese el numero cuatro:\"))\n",
        "numero5 = float(input(\"ingrese el numero cinco:\"))\n",
        "if numero1 >= numero2 and numero1 >= numero3 and numero1 >= numero4 and numero1:\n",
        "  mayor = numero1\n",
        "if numero2 >= numero1 and numero2 >= numero3 and numero2 >= numero4 and numero2:\n",
        "  mayor = numero2\n",
        "if numero3 >= numero1 and numero3 >= numero2 and numero3 >= numero4 and numero3:\n",
        "  mayor = numero3\n",
        "if numero4 >= numero1 and numero4 >= numero2 and numero4 >= numero3 and numero4:\n",
        "  mayor = numero4\n",
        "\n",
        "print(\"el numero mayor es\", mayor)\n"
      ],
      "metadata": {
        "colab": {
          "base_uri": "https://localhost:8080/"
        },
        "id": "qVLGuLgDomjF",
        "outputId": "e01a7a0f-700f-4fdf-aa4d-6cb79f5f350d"
      },
      "execution_count": 11,
      "outputs": [
        {
          "output_type": "stream",
          "name": "stdout",
          "text": [
            "ingrese el numero uno:10\n",
            "ingrese el numero dos:7\n",
            "ingrese el numero tres:3\n",
            "ingrese el numero cuatro:8\n",
            "ingrese el numero cinco:5\n",
            "el numero mayor es 10.0\n"
          ]
        }
      ]
    },
    {
      "cell_type": "markdown",
      "source": [
        "## PROBLEMA 6\n",
        "Escribe un programa en Python que solicite al usuario ingresar una edad y determine e imprima en\n",
        "qué categoría se encuentra la persona: \"Niño\" (0-12 años), \"Adolescente\" (13-19 años), \"Adulto\"\n",
        "(20-64 años) o \"Adulto Mayor\" (65 o más años)."
      ],
      "metadata": {
        "id": "BaktDb-qrrpn"
      }
    },
    {
      "cell_type": "code",
      "source": [
        "edad = float(input(\"ingrese su edad\"))\n",
        "if edad >= 0 and edad <= 12:\n",
        "  print(\"niño\")\n",
        "if edad >= 13 and edad <= 19:\n",
        "  print(\"adolescente\")\n",
        "if edad > 20 and edad <=64:\n",
        "  print(\"adulto\")\n",
        "if edad > 65:\n",
        "  print(\"adulto mayor\")"
      ],
      "metadata": {
        "colab": {
          "base_uri": "https://localhost:8080/"
        },
        "id": "zYOW2Ax5r36K",
        "outputId": "3a822102-3f9f-4eca-e58d-6e79d04f1b8d"
      },
      "execution_count": 1,
      "outputs": [
        {
          "output_type": "stream",
          "name": "stdout",
          "text": [
            "ingrese su edad18\n",
            "adolescente\n"
          ]
        }
      ]
    }
  ]
}